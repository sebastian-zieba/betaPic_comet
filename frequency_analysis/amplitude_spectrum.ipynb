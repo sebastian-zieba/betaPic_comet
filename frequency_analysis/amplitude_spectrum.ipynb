{
 "cells": [
  {
   "cell_type": "code",
   "execution_count": 64,
   "metadata": {},
   "outputs": [],
   "source": [
    "import numpy as np\n",
    "import matplotlib.pyplot as plt\n",
    "\n",
    "import os\n",
    "\n",
    "import lightkurve as lk"
   ]
  },
  {
   "cell_type": "code",
   "execution_count": 3,
   "metadata": {},
   "outputs": [],
   "source": [
    "datadir = os.getcwd()\n",
    "\n",
    "datafile = '/betaPic_AS.fou'\n",
    "\n",
    "freq, ampl = np.loadtxt(datadir + datafile, usecols=(0,1)).T"
   ]
  },
  {
   "cell_type": "code",
   "execution_count": 5,
   "metadata": {},
   "outputs": [],
   "source": [
    "datafile1 = '/results.txt'\n",
    "freqs, ampls, phs = np.loadtxt(datadir + datafile1, usecols=(0,3,5), skiprows=2).T"
   ]
  },
  {
   "cell_type": "code",
   "execution_count": 6,
   "metadata": {},
   "outputs": [
    {
     "data": {
      "text/plain": [
       "array([4.74387795e+01, 5.36918573e+01, 5.04918117e+01, 5.42377892e+01,\n",
       "       3.90630172e+01, 4.65429672e+01, 4.89187461e+01, 4.35278167e+01,\n",
       "       4.72847618e+01, 5.74521475e+01, 3.47605287e+01, 3.81291601e+01,\n",
       "       4.52695696e+01, 5.14965725e+01, 4.72694407e+01, 5.38543749e+01,\n",
       "       4.97127341e+01, 5.08312130e+01, 4.38288260e+01, 6.51349163e+01,\n",
       "       4.46832901e+01, 4.95595440e+01, 4.20359137e+01, 4.16503221e+01,\n",
       "       4.81377499e+01, 4.59002486e+01, 5.02686343e+01, 7.56781453e+01,\n",
       "       5.83467911e+01, 5.42269055e+01, 4.54372119e+01, 5.44632370e+01,\n",
       "       5.35527827e+01, 4.21731032e+01, 5.82518801e+01, 4.23962544e+01,\n",
       "       1.81148516e-01, 3.03422877e-01, 5.87262431e-02, 3.94100555e-02,\n",
       "       5.29219561e+01, 5.36828773e+01, 5.70479514e+01, 5.06451721e+01,\n",
       "       3.74791239e+01, 1.94588390e-02, 6.93759073e+01, 4.13194277e+01,\n",
       "       6.14471562e+01, 2.28146398e+01, 6.46158531e+01, 7.10448592e+01,\n",
       "       2.80782407e-01, 5.23033527e+01, 4.74081733e+01, 7.63170906e+01,\n",
       "       4.53553578e+01, 5.34989160e+01, 6.95533570e+01, 5.61099009e+01])"
      ]
     },
     "execution_count": 6,
     "metadata": {},
     "output_type": "execute_result"
    }
   ],
   "source": [
    "freqs"
   ]
  },
  {
   "cell_type": "code",
   "execution_count": 7,
   "metadata": {},
   "outputs": [
    {
     "data": {
      "text/plain": [
       "<Figure size 432x288 with 0 Axes>"
      ]
     },
     "metadata": {},
     "output_type": "display_data"
    },
    {
     "data": {
      "image/png": "[encoded data removed]",
      "text/plain": [
       "<Figure size 720x360 with 1 Axes>"
      ]
     },
     "metadata": {
      "needs_background": "light"
     },
     "output_type": "display_data"
    }
   ],
   "source": [
    "plt.rc('font', family='serif')\n",
    "plt.tight_layout()\n",
    "\n",
    "fig, ax = plt.subplots(1, 1, figsize=(10, 5))\n",
    "ax.plot(freq, ampl*1000, c='k')\n",
    "\n",
    "mask_freqs_big = freqs > 1\n",
    "\n",
    "ax.stem(freqs[mask_freqs_big], ampls[mask_freqs_big]*1000, markerfmt=' ', basefmt='k', linefmt='r-')\n",
    "\n",
    "#ax.setp(baseline, 'color', 'r', 'linewidth', 2)\n",
    "\n",
    "ax.set_xlabel('frequency [d$^{-1}$]')\n",
    "ax.set_ylabel('amplitude [mmag]')\n",
    "\n",
    "ax.set_xlim(-0.1, 100.1)\n",
    "ax.set_ylim(-0.001, 1.1)\n",
    "\n",
    "plt.show()\n",
    "\n",
    "#fig.savefig('betaPic_as.pdf', bbox_inches='tight')"
   ]
  },
  {
   "cell_type": "code",
   "execution_count": 8,
   "metadata": {},
   "outputs": [],
   "source": [
    "Flist = []\n",
    "\n",
    "for i in range(1, len(freqs[mask_freqs_big])+1):\n",
    "    tmp = 'F{0}'.format(i)\n",
    "    Flist.append(tmp)"
   ]
  },
  {
   "cell_type": "code",
   "execution_count": 9,
   "metadata": {},
   "outputs": [],
   "source": [
    "compl_list = []\n",
    "for i in range(len(freqs[mask_freqs_big])):\n",
    "    compl_list.append([Flist[i], freqs[mask_freqs_big][i], ampls[mask_freqs_big][i], phs[mask_freqs_big][i]/(2*np.pi)])"
   ]
  },
  {
   "cell_type": "code",
   "execution_count": 10,
   "metadata": {},
   "outputs": [],
   "source": [
    "#datapairs = np.stack((Flist, freqs[mask_freqs_big], ampls[mask_freqs_big], phs[mask_freqs_big]/(2*np.pi)), axis=-1)\n",
    "#np.savetxt('complete_list.txt',datapairs, fmt=\"%s\")"
   ]
  },
  {
   "cell_type": "code",
   "execution_count": 11,
   "metadata": {},
   "outputs": [
    {
     "data": {
      "text/plain": [
       "array([47.43877949, 53.69185728, 50.49181171, 54.2377892 , 39.06301719,\n",
       "       46.54296717, 48.91874608, 43.52781675, 47.28476177, 57.45214754,\n",
       "       34.76052867, 38.12916008, 45.2695696 , 51.49657248, 47.26944069,\n",
       "       53.85437491, 49.71273407, 50.83121297, 43.82882603, 65.13491632,\n",
       "       44.68329014, 49.559544  , 42.03591374, 41.65032209, 48.13774985,\n",
       "       45.90024862, 50.26863434, 75.67814529, 58.3467911 , 54.22690546,\n",
       "       45.43721189, 54.46323702, 53.55278274, 42.17310319, 58.25188011,\n",
       "       42.39625437, 52.92195611, 53.6828773 , 57.04795136, 50.64517211,\n",
       "       37.47912389, 69.37590725, 41.31942767, 61.44715615, 22.81463984,\n",
       "       64.61585311, 71.04485918, 52.30335269, 47.40817332, 76.3170906 ,\n",
       "       45.35535781, 53.49891597, 69.55335697, 56.10990095])"
      ]
     },
     "execution_count": 11,
     "metadata": {},
     "output_type": "execute_result"
    }
   ],
   "source": [
    "freqs[mask_freqs_big]"
   ]
  },
  {
   "cell_type": "code",
   "execution_count": 12,
   "metadata": {},
   "outputs": [
    {
     "data": {
      "text/plain": [
       "array([1.02969806e-03, 9.47833479e-04, 9.24916317e-04, 5.56907139e-04,\n",
       "       4.43584375e-04, 4.14833201e-04, 2.30943659e-04, 2.14321732e-04,\n",
       "       1.81914906e-04, 1.63394966e-04, 1.43010091e-04, 1.31851570e-04,\n",
       "       1.20126627e-04, 1.18355613e-04, 9.36691025e-05, 8.68348517e-05,\n",
       "       8.64686588e-05, 8.55986570e-05, 8.35962620e-05, 8.29709751e-05,\n",
       "       8.21919164e-05, 7.86869467e-05, 7.65639908e-05, 7.08283147e-05,\n",
       "       6.42366635e-05, 6.30512573e-05, 5.49948816e-05, 5.20910035e-05,\n",
       "       4.97273336e-05, 4.95800396e-05, 4.79174084e-05, 4.64029288e-05,\n",
       "       4.07227606e-05, 4.06145075e-05, 3.92296453e-05, 3.87455670e-05,\n",
       "       3.64850522e-05, 3.40541652e-05, 3.39431433e-05, 3.36460167e-05,\n",
       "       3.31858816e-05, 3.24760210e-05, 3.21317421e-05, 3.13779933e-05,\n",
       "       3.13930099e-05, 3.09399203e-05, 3.04100223e-05, 2.98870272e-05,\n",
       "       2.97276978e-05, 2.93701595e-05, 2.88891401e-05, 2.87023192e-05,\n",
       "       2.78300493e-05, 2.76798823e-05])"
      ]
     },
     "execution_count": 12,
     "metadata": {},
     "output_type": "execute_result"
    }
   ],
   "source": [
    "ampls[mask_freqs_big]"
   ]
  },
  {
   "cell_type": "code",
   "execution_count": 13,
   "metadata": {},
   "outputs": [
    {
     "data": {
      "text/plain": [
       "array([0.04449748, 0.9905598 , 0.35527158, 0.04964061, 0.89460845,\n",
       "       0.83499147, 0.63936729, 0.70932433, 0.95728869, 0.11535042,\n",
       "       0.74246421, 0.71841929, 0.70403571, 0.84200666, 0.23538723,\n",
       "       0.79896072, 0.87141954, 0.32983308, 0.10502923, 0.29120801,\n",
       "       0.30954922, 0.86552937, 0.17457224, 0.78214802, 0.7497008 ,\n",
       "       0.02843128, 0.23872792, 0.42195738, 0.74855578, 0.44814522,\n",
       "       0.44762636, 0.10557514, 0.43859522, 0.29467655, 0.32376996,\n",
       "       0.76240343, 0.01966835, 0.95579511, 0.51748857, 0.59201036,\n",
       "       0.90970308, 0.30839943, 0.68818378, 0.8484409 , 0.78567579,\n",
       "       0.06578952, 0.86421909, 0.9888255 , 0.82030704, 0.39484472,\n",
       "       0.22058945, 0.03294267, 0.5629144 , 0.97693167])"
      ]
     },
     "execution_count": 13,
     "metadata": {},
     "output_type": "execute_result"
    }
   ],
   "source": [
    "phs[mask_freqs_big]/(2*np.pi)"
   ]
  },
  {
   "cell_type": "markdown",
   "metadata": {},
   "source": [
    "# Let's make a Plots of a zoom into the light curve together with the frequency fit + Prewhitening (residuals) of the lc"
   ]
  },
  {
   "cell_type": "code",
   "execution_count": 19,
   "metadata": {},
   "outputs": [],
   "source": [
    "datadir = os.getcwd()\n",
    "datafile = '/period04_freqs.per'\n",
    "\n",
    "freqs, ampls, phs = np.loadtxt(datadir + datafile, usecols=(1, 2, 3)).T"
   ]
  },
  {
   "cell_type": "code",
   "execution_count": 20,
   "metadata": {},
   "outputs": [
    {
     "data": {
      "text/plain": [
       "array([47.43892812, 53.69174373, 50.49183285, 54.23743734, 39.06303848,\n",
       "       46.54301907, 48.91877561, 43.52779161, 47.28385552, 57.45208856,\n",
       "       34.76041323, 38.12911111, 45.26956662, 51.49624652, 47.2701907 ,\n",
       "       53.85463327, 49.71250049, 50.83102289, 43.8288478 , 65.1349189 ,\n",
       "       44.68339613, 49.55925611, 42.03524225, 41.65027834, 48.13775153,\n",
       "       45.9003393 , 50.26863524, 75.67814901, 58.34722388, 54.22831357,\n",
       "       45.43689653, 54.46249947, 53.55231519, 42.17293802, 58.25121508,\n",
       "       42.39598494, 52.92227765, 53.68985295, 57.04835291, 50.64553641,\n",
       "       37.47863725, 69.37520365, 41.31892971, 61.44609296, 22.81453498,\n",
       "       64.61538275, 71.04408877, 52.3034069 , 47.41013894, 76.31674949,\n",
       "       45.35529934, 53.4991    , 69.552598  , 56.10988436])"
      ]
     },
     "execution_count": 20,
     "metadata": {},
     "output_type": "execute_result"
    }
   ],
   "source": [
    "freqs"
   ]
  },
  {
   "cell_type": "code",
   "execution_count": 110,
   "metadata": {},
   "outputs": [],
   "source": [
    "lc=lk.search_lightcurvefile('beta Pictoris', sector=6).download()"
   ]
  },
  {
   "cell_type": "code",
   "execution_count": 116,
   "metadata": {},
   "outputs": [],
   "source": [
    "t=lc.time\n",
    "f=lc.PDCSAP_FLUX.normalize().flux"
   ]
  },
  {
   "cell_type": "code",
   "execution_count": 118,
   "metadata": {},
   "outputs": [],
   "source": [
    "x = np.linspace(1472, 1473, 5000)\n",
    "y = []\n",
    "\n",
    "for i in x:\n",
    "    tmp = [] #saves one sine\n",
    "    for freq, ampl, ph in zip(freqs, ampls, phs):\n",
    "        tmp.append(1000 * ampl * np.sin(2 * np.pi * freq * i + ph * 2 * np.pi))\n",
    "    y.append(sum(tmp))\n",
    "y = np.array(y)"
   ]
  },
  {
   "cell_type": "code",
   "execution_count": 119,
   "metadata": {},
   "outputs": [],
   "source": [
    "y_fit = []\n",
    "\n",
    "for i in t:\n",
    "    tmp = [] #saves one sine\n",
    "    for freq, ampl, ph in zip(freqs, ampls, phs):\n",
    "        tmp.append(1000 * ampl * np.sin(2 * np.pi * freq * i + ph * 2 * np.pi))\n",
    "    y_fit.append(sum(tmp))\n",
    "y_fit = np.array(y_fit)"
   ]
  },
  {
   "cell_type": "code",
   "execution_count": 120,
   "metadata": {},
   "outputs": [],
   "source": [
    "y_res = -2.5*np.log10(f) * 1000 - y_fit"
   ]
  },
  {
   "cell_type": "code",
   "execution_count": 122,
   "metadata": {},
   "outputs": [
    {
     "data": {
      "text/plain": [
       "Text(0, 0.5, 'residuals')"
      ]
     },
     "execution_count": 122,
     "metadata": {},
     "output_type": "execute_result"
    },
    {
     "data": {
      "text/plain": [
       "<Figure size 432x288 with 0 Axes>"
      ]
     },
     "metadata": {},
     "output_type": "display_data"
    },
    {
     "data": {
      "image/png": "[encoded data removed]",
      "text/plain": [
       "<Figure size 1080x288 with 2 Axes>"
      ]
     },
     "metadata": {
      "needs_background": "light"
     },
     "output_type": "display_data"
    }
   ],
   "source": [
    "plt.rc('font', family='serif', size=11)\n",
    "plt.tight_layout()\n",
    "\n",
    "fig, ax = plt.subplots(2, 1, figsize=(15, 4), gridspec_kw = {'height_ratios':[3, 1]})\n",
    "\n",
    "ax[0].plot(x,y, c='k', linewidth=1)\n",
    "ax[0].scatter(t, -2.5*np.log10(f) * 1000, s=3, c='r')\n",
    "\n",
    "ax[1].scatter(t, y_res, s=3, c='r')\n",
    "\n",
    "ax[0].set_ylim(-6, 6)\n",
    "ax[0].invert_yaxis()\n",
    "\n",
    "#plt.axis('equal')\n",
    "\n",
    "ax[0].set_xlim(1472, 1473)\n",
    "ax[1].set_xlim(1472, 1473)\n",
    "\n",
    "ax[1].set_xlabel('Time - 2457000 [BTJD days]')\n",
    "ax[0].set_ylabel('inst. mag [mmag]')\n",
    "\n",
    "ax[1].set_ylim(2,-2)\n",
    "\n",
    "ax[0].tick_params(\n",
    "    axis='x',          # changes apply to the x-axis\n",
    "    which='both',      # both major and minor ticks are affected\n",
    "    bottom=False,      # ticks along the bottom edge are off\n",
    "    top=False,         # ticks along the top edge are off\n",
    "    labelbottom=False)\n",
    "\n",
    "plt.subplots_adjust(hspace=0.12)\n",
    "\n",
    "ax[1].set_ylabel('residuals')\n",
    "\n",
    "#fig.savefig('betaPic_puls_zoom.pdf', bbox_inches='tight')"
   ]
  },
  {
   "cell_type": "code",
   "execution_count": null,
   "metadata": {},
   "outputs": [],
   "source": [
    "np.savetxt('F_table.txt',['F{0}'.format(i) for i in range(1,55)], fmt=\"%s\")"
   ]
  },
  {
   "cell_type": "code",
   "execution_count": null,
   "metadata": {},
   "outputs": [],
   "source": [
    "datadir = os.getcwd()\n",
    "datafile_err = '/frequency_analysis/period04_freqs_err.per'\n",
    "\n",
    "freqs_err, ampls_err, phs_err = np.loadtxt(datadir + datafile_err, usecols=(0,1,2)).T"
   ]
  },
  {
   "cell_type": "code",
   "execution_count": null,
   "metadata": {},
   "outputs": [],
   "source": [
    "len(freqs_err)"
   ]
  },
  {
   "cell_type": "markdown",
   "metadata": {},
   "source": [
    "## Make a Table of all Frequencies, Ampl., Errors & SNR incl. the uncertainties"
   ]
  },
  {
   "cell_type": "code",
   "execution_count": null,
   "metadata": {},
   "outputs": [],
   "source": [
    "from uncertainties import ufloat\n",
    "from uncertainties import ufloat_fromstr\n",
    "\n",
    "\n",
    "\n",
    "def uncert(values, errors):\n",
    "    numbers = []\n",
    "    if type(values)==np.float64:\n",
    "        values = [values]\n",
    "        \n",
    "    if type(errors)==np.float64:\n",
    "        errors = [errors]\n",
    "        \n",
    "    for i in range(0, len(values)):\n",
    "        tmp=ufloat(values[i], errors[i])\n",
    "        if str(errors[i]).replace(\".\", \"\").replace(\"0\", \"\")[0] == '1':\n",
    "            numbers.append('{:.2uS}'.format(tmp))\n",
    "        else:\n",
    "            numbers.append('{:.1uS}'.format(tmp))            \n",
    "    return numbers"
   ]
  },
  {
   "cell_type": "code",
   "execution_count": null,
   "metadata": {},
   "outputs": [],
   "source": [
    "freqs_table = [uncert(freqs[i], freqs_err[i])[0] for i in range(0, 54)]\n",
    "ampls_table = [uncert(ampls[i]*1000, ampls_err[i]*1000)[0] for i in range(0, 54)]\n",
    "phs_table = [uncert(phs[i], phs_err[i])[0] for i in range(0, 54)]"
   ]
  },
  {
   "cell_type": "code",
   "execution_count": null,
   "metadata": {},
   "outputs": [],
   "source": [
    "datapairs=np.stack((freqs_table, ampls_table, phs_table), axis=-1)\n",
    "np.savetxt('freqs_table.txt',datapairs, fmt=\"%s\")"
   ]
  }
 ],
 "metadata": {
  "kernelspec": {
   "display_name": "Python 3",
   "language": "python",
   "name": "python3"
  },
  "language_info": {
   "codemirror_mode": {
    "name": "ipython",
    "version": 3
   },
   "file_extension": ".py",
   "mimetype": "text/x-python",
   "name": "python",
   "nbconvert_exporter": "python",
   "pygments_lexer": "ipython3",
   "version": "3.7.2"
  }
 },
 "nbformat": 4,
 "nbformat_minor": 2
}
